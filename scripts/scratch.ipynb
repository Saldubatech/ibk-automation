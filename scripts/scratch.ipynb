{
 "cells": [
  {
   "cell_type": "markdown",
   "metadata": {},
   "source": [
    "# Interactive Brokers Movement Upload"
   ]
  },
  {
   "cell_type": "code",
   "execution_count": 58,
   "metadata": {},
   "outputs": [
    {
     "data": {
      "text/plain": [
       "'coub'"
      ]
     },
     "execution_count": 58,
     "metadata": {},
     "output_type": "execute_result"
    }
   ],
   "source": [
    "import os\n",
    "import datetime\n",
    "import time\n",
    "from pathlib import Path\n",
    "import yaml\n",
    "import sys\n",
    "import importlib\n",
    "import pandas as pd\n",
    "\n",
    "sys.path.append(\"..\")\n",
    "\n",
    " \n",
    "Path(\"a/b/coub.csv\").stem"
   ]
  },
  {
   "cell_type": "code",
   "execution_count": null,
   "metadata": {},
   "outputs": [
    {
     "ename": "",
     "evalue": "",
     "output_type": "error",
     "traceback": [
      "\u001b[1;31mRunning cells with 'salduba-corvino-uWfjbcGQ-py3.11 (Python 3.11.6)' requires the ipykernel package.\n",
      "\u001b[1;31mRun the following command to install 'ipykernel' into the Python environment. \n",
      "\u001b[1;31mCommand: '/Users/jmp/Library/Caches/pypoetry/virtualenvs/salduba-corvino-uWfjbcGQ-py3.11/bin/python -m pip install ipykernel -U --force-reinstall'"
     ]
    }
   ],
   "source": [
    "from salduba.ib_tws_proxy.backing_db.model import ContractRecord\n",
    "\n",
    "ContractRecord.fields()"
   ]
  },
  {
   "cell_type": "code",
   "execution_count": 54,
   "metadata": {},
   "outputs": [
    {
     "ename": "Exception",
     "evalue": "Record must be directly subclassed from: BB",
     "output_type": "error",
     "traceback": [
      "\u001b[0;31m---------------------------------------------------------------------------\u001b[0m",
      "\u001b[0;31mException\u001b[0m                                 Traceback (most recent call last)",
      "Cell \u001b[0;32mIn[54], line 54\u001b[0m\n\u001b[1;32m     50\u001b[0m   aStr: \u001b[38;5;28mstr\u001b[39m\n\u001b[1;32m     51\u001b[0m   bInt: \u001b[38;5;28mint\u001b[39m\n\u001b[1;32m     53\u001b[0m \u001b[38;5;129;43m@dataclass\u001b[39;49m\n\u001b[0;32m---> 54\u001b[0m \u001b[38;5;28;43;01mclass\u001b[39;49;00m\u001b[43m \u001b[49m\u001b[38;5;21;43;01mBB\u001b[39;49;00m\u001b[43m(\u001b[49m\u001b[43mTST\u001b[49m\u001b[43m)\u001b[49m\u001b[43m:\u001b[49m\n\u001b[1;32m     55\u001b[0m \u001b[43m  \u001b[49m\u001b[43mdownA\u001b[49m\u001b[43m:\u001b[49m\u001b[43m \u001b[49m\u001b[38;5;28;43mstr\u001b[39;49m\n\u001b[1;32m     56\u001b[0m \u001b[43m  \u001b[49m\u001b[43mdownB\u001b[49m\u001b[43m:\u001b[49m\u001b[43m \u001b[49m\u001b[38;5;28;43mstr\u001b[39;49m\n",
      "Cell \u001b[0;32mIn[54], line 25\u001b[0m, in \u001b[0;36mBase.__init_subclass__\u001b[0;34m(cls, **kwargs)\u001b[0m\n\u001b[1;32m     22\u001b[0m \u001b[38;5;129m@classmethod\u001b[39m\n\u001b[1;32m     23\u001b[0m \u001b[38;5;28;01mdef\u001b[39;00m \u001b[38;5;21m__init_subclass__\u001b[39m(\u001b[38;5;28mcls\u001b[39m: \u001b[38;5;28mtype\u001b[39m[Self], \u001b[38;5;241m*\u001b[39m\u001b[38;5;241m*\u001b[39mkwargs) \u001b[38;5;241m-\u001b[39m\u001b[38;5;241m>\u001b[39m \u001b[38;5;28;01mNone\u001b[39;00m:  \u001b[38;5;66;03m# type: ignore\u001b[39;00m\n\u001b[1;32m     24\u001b[0m   \u001b[38;5;28;01mif\u001b[39;00m Base \u001b[38;5;129;01mnot\u001b[39;00m \u001b[38;5;129;01min\u001b[39;00m \u001b[38;5;28mcls\u001b[39m\u001b[38;5;241m.\u001b[39m\u001b[38;5;18m__bases__\u001b[39m:\n\u001b[0;32m---> 25\u001b[0m     \u001b[38;5;28;01mraise\u001b[39;00m \u001b[38;5;167;01mException\u001b[39;00m(\u001b[38;5;124mf\u001b[39m\u001b[38;5;124m\"\u001b[39m\u001b[38;5;124mRecord must be directly subclassed from: \u001b[39m\u001b[38;5;132;01m{\u001b[39;00m\u001b[38;5;28mcls\u001b[39m\u001b[38;5;241m.\u001b[39m\u001b[38;5;18m__name__\u001b[39m\u001b[38;5;132;01m}\u001b[39;00m\u001b[38;5;124m\"\u001b[39m)\n\u001b[1;32m     26\u001b[0m   \u001b[38;5;28;01mfor\u001b[39;00m required \u001b[38;5;129;01min\u001b[39;00m [\u001b[38;5;124m'\u001b[39m\u001b[38;5;124mtable\u001b[39m\u001b[38;5;124m'\u001b[39m]:\n\u001b[1;32m     27\u001b[0m     \u001b[38;5;28;01mif\u001b[39;00m \u001b[38;5;129;01mnot\u001b[39;00m \u001b[38;5;28mgetattr\u001b[39m(\u001b[38;5;28mcls\u001b[39m, required):\n",
      "\u001b[0;31mException\u001b[0m: Record must be directly subclassed from: BB"
     ]
    }
   ],
   "source": [
    "import dataclasses as dc\n",
    "from dataclasses import dataclass\n",
    "from typing import ClassVar, Self\n",
    "\n",
    "\n",
    "@dataclass\n",
    "class Base:\n",
    "  table: ClassVar[str]\n",
    "  counter: ClassVar[str]\n",
    "  selector: ClassVar[str]\n",
    "  inserter: ClassVar[str]\n",
    "  value_inserter: ClassVar[str]\n",
    "  updater: ClassVar[str]\n",
    "  byIdDeleter: ClassVar[str]  \n",
    "  s1: str\n",
    "  s2: int\n",
    "\n",
    "  @classmethod\n",
    "  def fields(cls: type[Self]) -> list[str]:\n",
    "      return [f.name for f in dc.fields(cls)]\n",
    "    \n",
    "  @classmethod\n",
    "  def __init_subclass__(cls: type[Self], **kwargs) -> None:  # type: ignore\n",
    "    if Base not in cls.__bases__:\n",
    "      raise Exception(f\"Record must be directly subclassed from: {cls.__name__}\")\n",
    "    for required in ['table']:\n",
    "      if not getattr(cls, required):\n",
    "        raise TypeError(f\"Can't instantiate abstract class {cls.__name__} without {required} attribute defined\")\n",
    "      cls.counter = \"Select count(id) from \" + cls.table\n",
    "      cls.selector = \"select \" + \", \".join(cls.fields()) + \" from \" + cls.table\n",
    "      cls.inserter = \"Insert into \" + cls.table + \" (\" + \", \".join(cls.fields()) + \") \"\n",
    "      cls.value_inserter = cls.inserter + \"values (\" + \", \".join([\"?\"] * len(cls.fields())) + \");\"\n",
    "      cls.updater = \"Update \" + cls.table + \" set \" + \", \".join([f\"{k} = ?\" for k in cls.fields()])\n",
    "      cls.byIdDeleter = \"Delete from {} where id == ?\".format(cls.table)\n",
    "    return super().__init_subclass__(**kwargs)\n",
    "  \n",
    "  \n",
    "  @classmethod\n",
    "  def l_fields(cls) -> list[str]:\n",
    "    print(f\"Fields for {cls.__name__}\")\n",
    "    # [filename for path in dirs for filename in os.listdir(path)]\n",
    "    baseFields: list[str] = [f for c in cls.__bases__ for f in c.fields()] if cls.__name__ != 'Base' else []\n",
    "    ownFields: list[str] = [k for k in cls.__annotations__]\n",
    "    return baseFields + (ownFields  if cls.__name__ != 'Base' else ownFields[1:])\n",
    "\n",
    "\n",
    "@dataclass\n",
    "class TST(Base):\n",
    "  table: ClassVar[str] = \"TST_T\"\n",
    "  aStr: str\n",
    "  bInt: int\n",
    "\n",
    "@dataclass\n",
    "class BB(TST):\n",
    "  downA: str\n",
    "  downB: str\n",
    "\n",
    "bb = BB(\"s1\", 1, \"aStr\", 2, \"downA\", \"downB\")\n",
    "\n",
    "[bb.table, bb.selector, bb.__dict__]\n",
    "\n",
    "BB.__bases__\n"
   ]
  },
  {
   "cell_type": "code",
   "execution_count": 19,
   "metadata": {},
   "outputs": [
    {
     "ename": "NameError",
     "evalue": "name 'pd' is not defined",
     "output_type": "error",
     "traceback": [
      "\u001b[0;31m---------------------------------------------------------------------------\u001b[0m",
      "\u001b[0;31mNameError\u001b[0m                                 Traceback (most recent call last)",
      "Cell \u001b[0;32mIn[19], line 11\u001b[0m\n\u001b[1;32m      8\u001b[0m   cols\u001b[38;5;241m.\u001b[39mappend(typeTable\u001b[38;5;241m.\u001b[39mget(cols[\u001b[38;5;241m-\u001b[39m\u001b[38;5;241m1\u001b[39m], cols[\u001b[38;5;241m-\u001b[39m\u001b[38;5;241m1\u001b[39m]))\n\u001b[1;32m      9\u001b[0m   \u001b[38;5;28;01mreturn\u001b[39;00m cols\n\u001b[0;32m---> 11\u001b[0m \u001b[38;5;28;01mdef\u001b[39;00m \u001b[38;5;21m_fill_in\u001b[39m(frame: \u001b[43mpd\u001b[49m\u001b[38;5;241m.\u001b[39mDataFrame) \u001b[38;5;241m-\u001b[39m\u001b[38;5;241m>\u001b[39m pd\u001b[38;5;241m.\u001b[39mDataFrame:\n\u001b[1;32m     12\u001b[0m     frame[\u001b[38;5;124m'\u001b[39m\u001b[38;5;124mSymbol\u001b[39m\u001b[38;5;124m'\u001b[39m], frame[\u001b[38;5;124m'\u001b[39m\u001b[38;5;124mCountry\u001b[39m\u001b[38;5;124m'\u001b[39m], frame[\u001b[38;5;124m'\u001b[39m\u001b[38;5;124mRawType\u001b[39m\u001b[38;5;124m'\u001b[39m], frame[\u001b[38;5;124m'\u001b[39m\u001b[38;5;124mIbkType\u001b[39m\u001b[38;5;124m'\u001b[39m] \u001b[38;5;241m=\u001b[39m \u001b[38;5;28mzip\u001b[39m(\u001b[38;5;241m*\u001b[39mframe\u001b[38;5;241m.\u001b[39mindex\u001b[38;5;241m.\u001b[39mmap(split_ticker))\n\u001b[1;32m     13\u001b[0m     \u001b[38;5;28;01mreturn\u001b[39;00m frame\u001b[38;5;241m.\u001b[39msort_values(\u001b[38;5;124m'\u001b[39m\u001b[38;5;124mTicker\u001b[39m\u001b[38;5;124m'\u001b[39m)\n",
      "\u001b[0;31mNameError\u001b[0m: name 'pd' is not defined"
     ]
    }
   ],
   "source": [
    "typeTable = {\n",
    "  'Equity': 'STK'\n",
    "}\n",
    "\n",
    "\n",
    "def split_ticker(ticker: str) -> list[str]:\n",
    "  cols = ticker.split(' ')\n",
    "  cols.append(typeTable.get(cols[-1], cols[-1]))\n",
    "  return cols\n",
    "  \n",
    "def _fill_in(frame: pd.DataFrame) -> pd.DataFrame:\n",
    "    frame['Symbol'], frame['Country'], frame['RawType'], frame['IbkType'] = zip(*frame.index.map(split_ticker))\n",
    "    return frame.sort_values('Ticker')\n",
    "  \n",
    "def read_excel(movements_path: str, sheet: str = 'Movements') -> pd.DataFrame:\n",
    "    movementsPD: pd.DataFrame = pd.read_excel(\n",
    "      movements_path,\n",
    "      sheet,\n",
    "#      usecols=['Ticker', 'ID ISIN', 'Nombre', 'Trade', 'Currency', 'Exchange', 'Exchange 2'],\n",
    "      index_col='Ticker',\n",
    "      keep_default_na=True)\n",
    "    return _fill_in(movementsPD)"
   ]
  },
  {
   "cell_type": "code",
   "execution_count": 60,
   "metadata": {},
   "outputs": [
    {
     "data": {
      "text/html": [
       "<div>\n",
       "<style scoped>\n",
       "    .dataframe tbody tr th:only-of-type {\n",
       "        vertical-align: middle;\n",
       "    }\n",
       "\n",
       "    .dataframe tbody tr th {\n",
       "        vertical-align: top;\n",
       "    }\n",
       "\n",
       "    .dataframe thead th {\n",
       "        text-align: right;\n",
       "    }\n",
       "</style>\n",
       "<table border=\"1\" class=\"dataframe\">\n",
       "  <thead>\n",
       "    <tr style=\"text-align: right;\">\n",
       "      <th></th>\n",
       "      <th>ID ISIN</th>\n",
       "      <th>Nombre</th>\n",
       "      <th>Trade</th>\n",
       "      <th>Currency</th>\n",
       "      <th>Exchange</th>\n",
       "      <th>Exchange 2</th>\n",
       "      <th>Unnamed: 7</th>\n",
       "      <th>Co</th>\n",
       "      <th>Curny</th>\n",
       "      <th>Exch</th>\n",
       "      <th>Symbol</th>\n",
       "      <th>Country</th>\n",
       "      <th>RawType</th>\n",
       "      <th>IbkType</th>\n",
       "    </tr>\n",
       "    <tr>\n",
       "      <th>Ticker</th>\n",
       "      <th></th>\n",
       "      <th></th>\n",
       "      <th></th>\n",
       "      <th></th>\n",
       "      <th></th>\n",
       "      <th></th>\n",
       "      <th></th>\n",
       "      <th></th>\n",
       "      <th></th>\n",
       "      <th></th>\n",
       "      <th></th>\n",
       "      <th></th>\n",
       "      <th></th>\n",
       "      <th></th>\n",
       "    </tr>\n",
       "  </thead>\n",
       "  <tbody>\n",
       "    <tr>\n",
       "      <th>2875 JP Equity</th>\n",
       "      <td>JP3613000003</td>\n",
       "      <td>Toyo Suisan Kaisha Ltd</td>\n",
       "      <td>600</td>\n",
       "      <td>NaN</td>\n",
       "      <td>NaN</td>\n",
       "      <td>NaN</td>\n",
       "      <td>NaN</td>\n",
       "      <td>NaN</td>\n",
       "      <td>NaN</td>\n",
       "      <td>NaN</td>\n",
       "      <td>2875</td>\n",
       "      <td>JP</td>\n",
       "      <td>Equity</td>\n",
       "      <td>STK</td>\n",
       "    </tr>\n",
       "    <tr>\n",
       "      <th>3774 JP Equity</th>\n",
       "      <td>JP3152820001</td>\n",
       "      <td>Internet Initiative Japan Inc</td>\n",
       "      <td>200</td>\n",
       "      <td>NaN</td>\n",
       "      <td>NaN</td>\n",
       "      <td>NaN</td>\n",
       "      <td>NaN</td>\n",
       "      <td>NaN</td>\n",
       "      <td>NaN</td>\n",
       "      <td>NaN</td>\n",
       "      <td>3774</td>\n",
       "      <td>JP</td>\n",
       "      <td>Equity</td>\n",
       "      <td>STK</td>\n",
       "    </tr>\n",
       "    <tr>\n",
       "      <th>4063 JP Equity</th>\n",
       "      <td>JP3371200001</td>\n",
       "      <td>Shin-Etsu Chemical Co Ltd</td>\n",
       "      <td>100</td>\n",
       "      <td>NaN</td>\n",
       "      <td>NaN</td>\n",
       "      <td>NaN</td>\n",
       "      <td>NaN</td>\n",
       "      <td>NaN</td>\n",
       "      <td>NaN</td>\n",
       "      <td>NaN</td>\n",
       "      <td>4063</td>\n",
       "      <td>JP</td>\n",
       "      <td>Equity</td>\n",
       "      <td>STK</td>\n",
       "    </tr>\n",
       "    <tr>\n",
       "      <th>4186 JP Equity</th>\n",
       "      <td>JP3571800006</td>\n",
       "      <td>Tokyo Ohka Kogyo Co Ltd</td>\n",
       "      <td>100</td>\n",
       "      <td>NaN</td>\n",
       "      <td>NaN</td>\n",
       "      <td>NaN</td>\n",
       "      <td>NaN</td>\n",
       "      <td>NaN</td>\n",
       "      <td>NaN</td>\n",
       "      <td>NaN</td>\n",
       "      <td>4186</td>\n",
       "      <td>JP</td>\n",
       "      <td>Equity</td>\n",
       "      <td>STK</td>\n",
       "    </tr>\n",
       "    <tr>\n",
       "      <th>4519 JP Equity</th>\n",
       "      <td>JP3519400000</td>\n",
       "      <td>Chugai Pharmaceutical Co Ltd</td>\n",
       "      <td>100</td>\n",
       "      <td>NaN</td>\n",
       "      <td>NaN</td>\n",
       "      <td>NaN</td>\n",
       "      <td>NaN</td>\n",
       "      <td>NaN</td>\n",
       "      <td>NaN</td>\n",
       "      <td>NaN</td>\n",
       "      <td>4519</td>\n",
       "      <td>JP</td>\n",
       "      <td>Equity</td>\n",
       "      <td>STK</td>\n",
       "    </tr>\n",
       "  </tbody>\n",
       "</table>\n",
       "</div>"
      ],
      "text/plain": [
       "                     ID ISIN                         Nombre  Trade  Currency  \\\n",
       "Ticker                                                                         \n",
       "2875 JP Equity  JP3613000003         Toyo Suisan Kaisha Ltd    600       NaN   \n",
       "3774 JP Equity  JP3152820001  Internet Initiative Japan Inc    200       NaN   \n",
       "4063 JP Equity  JP3371200001      Shin-Etsu Chemical Co Ltd    100       NaN   \n",
       "4186 JP Equity  JP3571800006        Tokyo Ohka Kogyo Co Ltd    100       NaN   \n",
       "4519 JP Equity  JP3519400000   Chugai Pharmaceutical Co Ltd    100       NaN   \n",
       "\n",
       "                Exchange  Exchange 2  Unnamed: 7   Co Curny Exch Symbol  \\\n",
       "Ticker                                                                    \n",
       "2875 JP Equity       NaN         NaN         NaN  NaN   NaN  NaN   2875   \n",
       "3774 JP Equity       NaN         NaN         NaN  NaN   NaN  NaN   3774   \n",
       "4063 JP Equity       NaN         NaN         NaN  NaN   NaN  NaN   4063   \n",
       "4186 JP Equity       NaN         NaN         NaN  NaN   NaN  NaN   4186   \n",
       "4519 JP Equity       NaN         NaN         NaN  NaN   NaN  NaN   4519   \n",
       "\n",
       "               Country RawType IbkType  \n",
       "Ticker                                  \n",
       "2875 JP Equity      JP  Equity     STK  \n",
       "3774 JP Equity      JP  Equity     STK  \n",
       "4063 JP Equity      JP  Equity     STK  \n",
       "4186 JP Equity      JP  Equity     STK  \n",
       "4519 JP Equity      JP  Equity     STK  "
      ]
     },
     "execution_count": 60,
     "metadata": {},
     "output_type": "execute_result"
    }
   ],
   "source": [
    "f = read_excel('../tests/resources/Cervino Rebalance 240503.xlsx', 'Movements')\n",
    "f[0:5]"
   ]
  },
  {
   "cell_type": "code",
   "execution_count": 52,
   "metadata": {},
   "outputs": [
    {
     "data": {
      "text/plain": [
       "Index(['ID ISIN', 'Nombre', 'Trade', 'Currency', 'Exchange', 'Exchange 2',\n",
       "       'Symbol', 'Country', 'RawType', 'IbkType'],\n",
       "      dtype='object')"
      ]
     },
     "execution_count": 52,
     "metadata": {},
     "output_type": "execute_result"
    }
   ],
   "source": [
    "f.rename(columns={'Exchange 2': 'Exchange2'})\n",
    "f.columns"
   ]
  },
  {
   "cell_type": "code",
   "execution_count": 95,
   "metadata": {},
   "outputs": [],
   "source": [
    "f['Ticker'] = f.index"
   ]
  },
  {
   "cell_type": "code",
   "execution_count": 99,
   "metadata": {},
   "outputs": [
    {
     "data": {
      "text/html": [
       "<div>\n",
       "<style scoped>\n",
       "    .dataframe tbody tr th:only-of-type {\n",
       "        vertical-align: middle;\n",
       "    }\n",
       "\n",
       "    .dataframe tbody tr th {\n",
       "        vertical-align: top;\n",
       "    }\n",
       "\n",
       "    .dataframe thead th {\n",
       "        text-align: right;\n",
       "    }\n",
       "</style>\n",
       "<table border=\"1\" class=\"dataframe\">\n",
       "  <thead>\n",
       "    <tr style=\"text-align: right;\">\n",
       "      <th></th>\n",
       "      <th>ID ISIN</th>\n",
       "      <th>Nombre</th>\n",
       "      <th>Trade</th>\n",
       "      <th>Currency</th>\n",
       "      <th>Exchange</th>\n",
       "      <th>Exchange 2</th>\n",
       "      <th>Unnamed: 7</th>\n",
       "      <th>Co</th>\n",
       "      <th>Curny</th>\n",
       "      <th>Exch</th>\n",
       "      <th>Symbol</th>\n",
       "      <th>Country</th>\n",
       "      <th>RawType</th>\n",
       "      <th>IbkType</th>\n",
       "      <th>OTicker</th>\n",
       "      <th>Ticker</th>\n",
       "    </tr>\n",
       "    <tr>\n",
       "      <th>Ticker</th>\n",
       "      <th></th>\n",
       "      <th></th>\n",
       "      <th></th>\n",
       "      <th></th>\n",
       "      <th></th>\n",
       "      <th></th>\n",
       "      <th></th>\n",
       "      <th></th>\n",
       "      <th></th>\n",
       "      <th></th>\n",
       "      <th></th>\n",
       "      <th></th>\n",
       "      <th></th>\n",
       "      <th></th>\n",
       "      <th></th>\n",
       "      <th></th>\n",
       "    </tr>\n",
       "  </thead>\n",
       "  <tbody>\n",
       "    <tr>\n",
       "      <th>2875 JP Equity</th>\n",
       "      <td>JP3613000003</td>\n",
       "      <td>Toyo Suisan Kaisha Ltd</td>\n",
       "      <td>600</td>\n",
       "      <td>NaN</td>\n",
       "      <td>NaN</td>\n",
       "      <td>NaN</td>\n",
       "      <td>NaN</td>\n",
       "      <td>NaN</td>\n",
       "      <td>NaN</td>\n",
       "      <td>NaN</td>\n",
       "      <td>2875</td>\n",
       "      <td>JP</td>\n",
       "      <td>Equity</td>\n",
       "      <td>STK</td>\n",
       "      <td>2875 JP Equity</td>\n",
       "      <td>2875 JP Equity</td>\n",
       "    </tr>\n",
       "    <tr>\n",
       "      <th>3774 JP Equity</th>\n",
       "      <td>JP3152820001</td>\n",
       "      <td>Internet Initiative Japan Inc</td>\n",
       "      <td>200</td>\n",
       "      <td>NaN</td>\n",
       "      <td>NaN</td>\n",
       "      <td>NaN</td>\n",
       "      <td>NaN</td>\n",
       "      <td>NaN</td>\n",
       "      <td>NaN</td>\n",
       "      <td>NaN</td>\n",
       "      <td>3774</td>\n",
       "      <td>JP</td>\n",
       "      <td>Equity</td>\n",
       "      <td>STK</td>\n",
       "      <td>3774 JP Equity</td>\n",
       "      <td>3774 JP Equity</td>\n",
       "    </tr>\n",
       "    <tr>\n",
       "      <th>4063 JP Equity</th>\n",
       "      <td>JP3371200001</td>\n",
       "      <td>Shin-Etsu Chemical Co Ltd</td>\n",
       "      <td>100</td>\n",
       "      <td>NaN</td>\n",
       "      <td>NaN</td>\n",
       "      <td>NaN</td>\n",
       "      <td>NaN</td>\n",
       "      <td>NaN</td>\n",
       "      <td>NaN</td>\n",
       "      <td>NaN</td>\n",
       "      <td>4063</td>\n",
       "      <td>JP</td>\n",
       "      <td>Equity</td>\n",
       "      <td>STK</td>\n",
       "      <td>4063 JP Equity</td>\n",
       "      <td>4063 JP Equity</td>\n",
       "    </tr>\n",
       "    <tr>\n",
       "      <th>4186 JP Equity</th>\n",
       "      <td>JP3571800006</td>\n",
       "      <td>Tokyo Ohka Kogyo Co Ltd</td>\n",
       "      <td>100</td>\n",
       "      <td>NaN</td>\n",
       "      <td>NaN</td>\n",
       "      <td>NaN</td>\n",
       "      <td>NaN</td>\n",
       "      <td>NaN</td>\n",
       "      <td>NaN</td>\n",
       "      <td>NaN</td>\n",
       "      <td>4186</td>\n",
       "      <td>JP</td>\n",
       "      <td>Equity</td>\n",
       "      <td>STK</td>\n",
       "      <td>4186 JP Equity</td>\n",
       "      <td>4186 JP Equity</td>\n",
       "    </tr>\n",
       "    <tr>\n",
       "      <th>4519 JP Equity</th>\n",
       "      <td>JP3519400000</td>\n",
       "      <td>Chugai Pharmaceutical Co Ltd</td>\n",
       "      <td>100</td>\n",
       "      <td>NaN</td>\n",
       "      <td>NaN</td>\n",
       "      <td>NaN</td>\n",
       "      <td>NaN</td>\n",
       "      <td>NaN</td>\n",
       "      <td>NaN</td>\n",
       "      <td>NaN</td>\n",
       "      <td>4519</td>\n",
       "      <td>JP</td>\n",
       "      <td>Equity</td>\n",
       "      <td>STK</td>\n",
       "      <td>4519 JP Equity</td>\n",
       "      <td>4519 JP Equity</td>\n",
       "    </tr>\n",
       "    <tr>\n",
       "      <th>...</th>\n",
       "      <td>...</td>\n",
       "      <td>...</td>\n",
       "      <td>...</td>\n",
       "      <td>...</td>\n",
       "      <td>...</td>\n",
       "      <td>...</td>\n",
       "      <td>...</td>\n",
       "      <td>...</td>\n",
       "      <td>...</td>\n",
       "      <td>...</td>\n",
       "      <td>...</td>\n",
       "      <td>...</td>\n",
       "      <td>...</td>\n",
       "      <td>...</td>\n",
       "      <td>...</td>\n",
       "      <td>...</td>\n",
       "    </tr>\n",
       "    <tr>\n",
       "      <th>VBK GR Equity</th>\n",
       "      <td>DE000A0JL9W6</td>\n",
       "      <td>Verbio SE</td>\n",
       "      <td>-2644</td>\n",
       "      <td>NaN</td>\n",
       "      <td>NaN</td>\n",
       "      <td>NaN</td>\n",
       "      <td>NaN</td>\n",
       "      <td>NaN</td>\n",
       "      <td>NaN</td>\n",
       "      <td>NaN</td>\n",
       "      <td>VBK</td>\n",
       "      <td>GR</td>\n",
       "      <td>Equity</td>\n",
       "      <td>STK</td>\n",
       "      <td>VBK GR Equity</td>\n",
       "      <td>VBK GR Equity</td>\n",
       "    </tr>\n",
       "    <tr>\n",
       "      <th>VLO US Equity</th>\n",
       "      <td>US91913Y1001</td>\n",
       "      <td>Valero Energy Corp</td>\n",
       "      <td>-27</td>\n",
       "      <td>NaN</td>\n",
       "      <td>NaN</td>\n",
       "      <td>NaN</td>\n",
       "      <td>NaN</td>\n",
       "      <td>NaN</td>\n",
       "      <td>NaN</td>\n",
       "      <td>NaN</td>\n",
       "      <td>VLO</td>\n",
       "      <td>US</td>\n",
       "      <td>Equity</td>\n",
       "      <td>STK</td>\n",
       "      <td>VLO US Equity</td>\n",
       "      <td>VLO US Equity</td>\n",
       "    </tr>\n",
       "    <tr>\n",
       "      <th>VRTX US Equity</th>\n",
       "      <td>US92532F1003</td>\n",
       "      <td>Vertex Pharmaceuticals Inc</td>\n",
       "      <td>-58</td>\n",
       "      <td>NaN</td>\n",
       "      <td>NaN</td>\n",
       "      <td>NaN</td>\n",
       "      <td>NaN</td>\n",
       "      <td>NaN</td>\n",
       "      <td>NaN</td>\n",
       "      <td>NaN</td>\n",
       "      <td>VRTX</td>\n",
       "      <td>US</td>\n",
       "      <td>Equity</td>\n",
       "      <td>STK</td>\n",
       "      <td>VRTX US Equity</td>\n",
       "      <td>VRTX US Equity</td>\n",
       "    </tr>\n",
       "    <tr>\n",
       "      <th>WSO US Equity</th>\n",
       "      <td>US9426222009</td>\n",
       "      <td>Watsco Inc</td>\n",
       "      <td>-69</td>\n",
       "      <td>NaN</td>\n",
       "      <td>NaN</td>\n",
       "      <td>NaN</td>\n",
       "      <td>NaN</td>\n",
       "      <td>NaN</td>\n",
       "      <td>NaN</td>\n",
       "      <td>NaN</td>\n",
       "      <td>WSO</td>\n",
       "      <td>US</td>\n",
       "      <td>Equity</td>\n",
       "      <td>STK</td>\n",
       "      <td>WSO US Equity</td>\n",
       "      <td>WSO US Equity</td>\n",
       "    </tr>\n",
       "    <tr>\n",
       "      <th>YOU LN Equity</th>\n",
       "      <td>GB00B1VQ6H25</td>\n",
       "      <td>YouGov PLC</td>\n",
       "      <td>2007</td>\n",
       "      <td>NaN</td>\n",
       "      <td>NaN</td>\n",
       "      <td>NaN</td>\n",
       "      <td>NaN</td>\n",
       "      <td>NaN</td>\n",
       "      <td>NaN</td>\n",
       "      <td>NaN</td>\n",
       "      <td>YOU</td>\n",
       "      <td>LN</td>\n",
       "      <td>Equity</td>\n",
       "      <td>STK</td>\n",
       "      <td>YOU LN Equity</td>\n",
       "      <td>YOU LN Equity</td>\n",
       "    </tr>\n",
       "  </tbody>\n",
       "</table>\n",
       "<p>109 rows × 16 columns</p>\n",
       "</div>"
      ],
      "text/plain": [
       "                     ID ISIN                         Nombre  Trade  Currency  \\\n",
       "Ticker                                                                         \n",
       "2875 JP Equity  JP3613000003         Toyo Suisan Kaisha Ltd    600       NaN   \n",
       "3774 JP Equity  JP3152820001  Internet Initiative Japan Inc    200       NaN   \n",
       "4063 JP Equity  JP3371200001      Shin-Etsu Chemical Co Ltd    100       NaN   \n",
       "4186 JP Equity  JP3571800006        Tokyo Ohka Kogyo Co Ltd    100       NaN   \n",
       "4519 JP Equity  JP3519400000   Chugai Pharmaceutical Co Ltd    100       NaN   \n",
       "...                      ...                            ...    ...       ...   \n",
       "VBK GR Equity   DE000A0JL9W6                      Verbio SE  -2644       NaN   \n",
       "VLO US Equity   US91913Y1001             Valero Energy Corp    -27       NaN   \n",
       "VRTX US Equity  US92532F1003     Vertex Pharmaceuticals Inc    -58       NaN   \n",
       "WSO US Equity   US9426222009                     Watsco Inc    -69       NaN   \n",
       "YOU LN Equity   GB00B1VQ6H25                     YouGov PLC   2007       NaN   \n",
       "\n",
       "                Exchange  Exchange 2  Unnamed: 7   Co Curny Exch Symbol  \\\n",
       "Ticker                                                                    \n",
       "2875 JP Equity       NaN         NaN         NaN  NaN   NaN  NaN   2875   \n",
       "3774 JP Equity       NaN         NaN         NaN  NaN   NaN  NaN   3774   \n",
       "4063 JP Equity       NaN         NaN         NaN  NaN   NaN  NaN   4063   \n",
       "4186 JP Equity       NaN         NaN         NaN  NaN   NaN  NaN   4186   \n",
       "4519 JP Equity       NaN         NaN         NaN  NaN   NaN  NaN   4519   \n",
       "...                  ...         ...         ...  ...   ...  ...    ...   \n",
       "VBK GR Equity        NaN         NaN         NaN  NaN   NaN  NaN    VBK   \n",
       "VLO US Equity        NaN         NaN         NaN  NaN   NaN  NaN    VLO   \n",
       "VRTX US Equity       NaN         NaN         NaN  NaN   NaN  NaN   VRTX   \n",
       "WSO US Equity        NaN         NaN         NaN  NaN   NaN  NaN    WSO   \n",
       "YOU LN Equity        NaN         NaN         NaN  NaN   NaN  NaN    YOU   \n",
       "\n",
       "               Country RawType IbkType         OTicker          Ticker  \n",
       "Ticker                                                                  \n",
       "2875 JP Equity      JP  Equity     STK  2875 JP Equity  2875 JP Equity  \n",
       "3774 JP Equity      JP  Equity     STK  3774 JP Equity  3774 JP Equity  \n",
       "4063 JP Equity      JP  Equity     STK  4063 JP Equity  4063 JP Equity  \n",
       "4186 JP Equity      JP  Equity     STK  4186 JP Equity  4186 JP Equity  \n",
       "4519 JP Equity      JP  Equity     STK  4519 JP Equity  4519 JP Equity  \n",
       "...                ...     ...     ...             ...             ...  \n",
       "VBK GR Equity       GR  Equity     STK   VBK GR Equity   VBK GR Equity  \n",
       "VLO US Equity       US  Equity     STK   VLO US Equity   VLO US Equity  \n",
       "VRTX US Equity      US  Equity     STK  VRTX US Equity  VRTX US Equity  \n",
       "WSO US Equity       US  Equity     STK   WSO US Equity   WSO US Equity  \n",
       "YOU LN Equity       LN  Equity     STK   YOU LN Equity   YOU LN Equity  \n",
       "\n",
       "[109 rows x 16 columns]"
      ]
     },
     "execution_count": 99,
     "metadata": {},
     "output_type": "execute_result"
    }
   ],
   "source": [
    "f.apply(lambda r: r, axis=1)"
   ]
  },
  {
   "cell_type": "code",
   "execution_count": 6,
   "metadata": {},
   "outputs": [
    {
     "name": "stdout",
     "output_type": "stream",
     "text": [
      "It is a Decimal\n"
     ]
    }
   ],
   "source": [
    "from decimal import Decimal\n",
    "\n",
    "a = Decimal(33.0)\n",
    "\n",
    "if isinstance(a, Decimal):\n",
    "  print(\"It is a Decimal\")\n",
    "else:\n",
    "  print(\"It is NOT\")\n",
    "    "
   ]
  },
  {
   "cell_type": "code",
   "execution_count": 8,
   "metadata": {},
   "outputs": [
    {
     "data": {
      "text/html": [
       "<div>\n",
       "<style scoped>\n",
       "    .dataframe tbody tr th:only-of-type {\n",
       "        vertical-align: middle;\n",
       "    }\n",
       "\n",
       "    .dataframe tbody tr th {\n",
       "        vertical-align: top;\n",
       "    }\n",
       "\n",
       "    .dataframe thead th {\n",
       "        text-align: right;\n",
       "    }\n",
       "</style>\n",
       "<table border=\"1\" class=\"dataframe\">\n",
       "  <thead>\n",
       "    <tr style=\"text-align: right;\">\n",
       "      <th></th>\n",
       "      <th>Ticker</th>\n",
       "      <th>Trade</th>\n",
       "      <th>Nombre</th>\n",
       "      <th>Symbol</th>\n",
       "      <th>RawType</th>\n",
       "      <th>RawCountry</th>\n",
       "      <th>IBKType</th>\n",
       "      <th>Currency</th>\n",
       "      <th>Exchange</th>\n",
       "      <th>Exchange2</th>\n",
       "    </tr>\n",
       "  </thead>\n",
       "  <tbody>\n",
       "    <tr>\n",
       "      <th>8</th>\n",
       "      <td>ASML NA Equity</td>\n",
       "      <td>-3</td>\n",
       "      <td>ASML Holding NV</td>\n",
       "      <td>ASML</td>\n",
       "      <td>Equity</td>\n",
       "      <td>NA</td>\n",
       "      <td>STK</td>\n",
       "      <td>EUR</td>\n",
       "      <td>AEB</td>\n",
       "      <td></td>\n",
       "    </tr>\n",
       "  </tbody>\n",
       "</table>\n",
       "</div>"
      ],
      "text/plain": [
       "           Ticker  Trade           Nombre Symbol RawType RawCountry IBKType  \\\n",
       "8  ASML NA Equity     -3  ASML Holding NV   ASML  Equity         NA     STK   \n",
       "\n",
       "  Currency Exchange Exchange2  \n",
       "8      EUR      AEB            "
      ]
     },
     "execution_count": 8,
     "metadata": {},
     "output_type": "execute_result"
    }
   ],
   "source": [
    "movesPD = pd.read_csv('../data/cervino_rebalance_v2.csv', dtype={\n",
    "    'Ticker': str,\n",
    "    'Trade': int,\n",
    "    'Nombre': str,\n",
    "    'Symbol': str,\n",
    "    'RawType': str,\n",
    "    'RawCountry': str,\n",
    "    'IBKType': str,\n",
    "    'Currency': str,\n",
    "    'Exchange': str,\n",
    "    'Exchange2': str\n",
    "},\n",
    "                      keep_default_na=False)\n",
    "\n",
    "movesPD[movesPD['Ticker'] == 'ASML NA Equity']"
   ]
  },
  {
   "cell_type": "code",
   "execution_count": 14,
   "metadata": {},
   "outputs": [
    {
     "data": {
      "text/plain": [
       "pandas.core.series.Series"
      ]
     },
     "execution_count": 14,
     "metadata": {},
     "output_type": "execute_result"
    }
   ],
   "source": [
    "type(movesPD['Ticker'] == movesPD['Nombre'])"
   ]
  },
  {
   "cell_type": "code",
   "execution_count": 3,
   "metadata": {},
   "outputs": [
    {
     "ename": "IndexError",
     "evalue": "pop from empty list",
     "output_type": "error",
     "traceback": [
      "\u001b[0;31m---------------------------------------------------------------------------\u001b[0m",
      "\u001b[0;31mIndexError\u001b[0m                                Traceback (most recent call last)",
      "Cell \u001b[0;32mIn[3], line 5\u001b[0m\n\u001b[1;32m      2\u001b[0m \u001b[38;5;28mlist\u001b[39m\u001b[38;5;241m.\u001b[39mremove(\u001b[38;5;124m'\u001b[39m\u001b[38;5;124mmeta.sql\u001b[39m\u001b[38;5;124m'\u001b[39m)\n\u001b[1;32m      4\u001b[0m \u001b[38;5;28mlist\u001b[39m\n\u001b[0;32m----> 5\u001b[0m \u001b[43m[\u001b[49m\u001b[43m]\u001b[49m\u001b[38;5;241;43m.\u001b[39;49m\u001b[43mpop\u001b[49m\u001b[43m(\u001b[49m\u001b[38;5;241;43m0\u001b[39;49m\u001b[43m)\u001b[49m\n",
      "\u001b[0;31mIndexError\u001b[0m: pop from empty list"
     ]
    }
   ],
   "source": [
    "list = os.listdir('../salduba/ib_tws_proxy/backing_db/schema/')\n",
    "list.remove('meta.sql')\n",
    "\n",
    "list\n",
    "[].pop(0)"
   ]
  },
  {
   "cell_type": "code",
   "execution_count": 8,
   "metadata": {},
   "outputs": [
    {
     "data": {
      "text/plain": [
       "True"
      ]
     },
     "execution_count": 8,
     "metadata": {},
     "output_type": "execute_result"
    }
   ],
   "source": [
    "import re\n",
    "\n",
    "re.search(r'\\d+.sql', 'vasdf.sql') is None"
   ]
  },
  {
   "cell_type": "code",
   "execution_count": 2,
   "metadata": {},
   "outputs": [
    {
     "data": {
      "text/plain": [
       "'create table if not exists db_info (\\n  version integer primary key,\\n  version_time integer,\\n  at integer not NULL,\\n  current BOOLEAN not NULL\\n);\\n'"
      ]
     },
     "execution_count": 2,
     "metadata": {},
     "output_type": "execute_result"
    }
   ],
   "source": [
    "import sqlite3 as sql\n",
    "\n",
    "with open(\"../salduba/ib_tws_proxy/backing_db/schema/meta.sql\", 'r') as script_file:\n",
    "  script = script_file.read()\n",
    "  \n",
    "script"
   ]
  },
  {
   "cell_type": "code",
   "execution_count": 4,
   "metadata": {},
   "outputs": [
    {
     "data": {
      "text/plain": [
       "[('asdf-asdf-asdf-0001',\n",
       "  123456,\n",
       "  234567,\n",
       "  'PENDING',\n",
       "  12345,\n",
       "  'SYMBOL',\n",
       "  'STK',\n",
       "  'MARCH',\n",
       "  88.99,\n",
       "  'RIGHT',\n",
       "  'MULTIPLIER',\n",
       "  'SMART',\n",
       "  'USD',\n",
       "  'LOC_SYMBOL',\n",
       "  'NASDAQ',\n",
       "  'TRD_CLASS',\n",
       "  0,\n",
       "  'SEC_ID_TYPE',\n",
       "  'SEC_ID',\n",
       "  'Something or other',\n",
       "  'Issuer',\n",
       "  'The combo legs',\n",
       "  'dnc_id-001')]"
      ]
     },
     "execution_count": 4,
     "metadata": {},
     "output_type": "execute_result"
    }
   ],
   "source": [
    "db_conn = sql.connect('test.db')\n",
    "crs = db_conn.cursor()\n",
    "\n",
    "rs = crs.execute('select * from contract;').fetchall()\n",
    "\n",
    "crs.close()\n",
    "db_conn.close()\n",
    "\n",
    "rs"
   ]
  },
  {
   "cell_type": "code",
   "execution_count": 35,
   "metadata": {},
   "outputs": [],
   "source": [
    "import salduba.ib_tws_proxy.backing_db.model as cmodel\n",
    "importlib.reload(cmodel)\n",
    "\n",
    "from salduba.ib_tws_proxy.backing_db.model import ContractRecord\n",
    "\n"
   ]
  },
  {
   "cell_type": "code",
   "execution_count": 36,
   "metadata": {},
   "outputs": [
    {
     "name": "stdout",
     "output_type": "stream",
     "text": [
      "Found: ('asdf-asdf-asdf-0001', 123456, 234567, 'PENDING', 12345, 'SYMBOL', 'STK', 'MARCH', 88.99, 'RIGHT', 'MULTIPLIER', 'SMART', 'USD', 'LOC_SYMBOL', 'NASDAQ', 'TRD_CLASS', 0, 'SEC_ID_TYPE', 'SEC_ID', 'Something or other', 'Issuer', 'The combo legs', 'dnc_id-001')\n",
      "Then the rest of parameters: {'conid': 12345, 'symbol': 'SYMBOL', 'sec_type': 'STK', 'last_trade_date_or_contract_month': 'MARCH', 'strike': 88.99, 'right': 'RIGHT', 'multiplier': 'MULTIPLIER', 'exchange': 'SMART', 'currency': 'USD', 'local_symbol': 'LOC_SYMBOL', 'primary_exchange': 'NASDAQ', 'trading_class': 'TRD_CLASS', 'include_expired': 0, 'sec_id_type': 'SEC_ID_TYPE', 'sec_id': 'SEC_ID', 'description': 'Something or other', 'issuer_id': 'Issuer', 'combo_legs_description': 'The combo legs', 'delta_neutral_contract_fk': 'dnc_id-001'}\n"
     ]
    }
   ],
   "source": [
    "ctr = ContractRecord.hydrate(*rs[0])"
   ]
  },
  {
   "cell_type": "code",
   "execution_count": 46,
   "metadata": {},
   "outputs": [
    {
     "data": {
      "text/plain": [
       "1709075288.72169"
      ]
     },
     "execution_count": 46,
     "metadata": {},
     "output_type": "execute_result"
    }
   ],
   "source": [
    "datetime.datetime.now().timestamp()"
   ]
  },
  {
   "cell_type": "code",
   "execution_count": 31,
   "metadata": {},
   "outputs": [],
   "source": [
    "db_conn = sql.connect('test.db')\n",
    "crs = db_conn.cursor()\n",
    "\n",
    "files = [\n",
    "  \"../salduba/ib_tws_proxy/backing_db/schema/meta.sql\",\n",
    "  \"../salduba/ib_tws_proxy/backing_db/seed-data/meta.sql\",\n",
    "  \"../salduba/ib_tws_proxy/backing_db/schema/v1.sql\"\n",
    "]\n",
    "\n",
    "for f in files:\n",
    "  with open(f, 'r') as file:\n",
    "    script = file.read()\n",
    "  crs.executescript(script)\n",
    "\n",
    "crs.close()"
   ]
  },
  {
   "cell_type": "code",
   "execution_count": 12,
   "metadata": {},
   "outputs": [
    {
     "data": {
      "text/plain": [
       "{'logging': {'level': 'INFO'},\n",
       " 'tws_server': {'host': '127.0.0.1', 'port': 7497},\n",
       " 'client': {'id': 0},\n",
       " 'inputs': {'movements_path': 'data/movements.csv',\n",
       "  'batch': 'movements_batch'}}"
      ]
     },
     "execution_count": 12,
     "metadata": {},
     "output_type": "execute_result"
    }
   ],
   "source": [
    "config_path = '../configuration.yml'\n",
    "\n",
    "with open(config_path, 'r') as config_file:\n",
    "  loaded_config = yaml.safe_load(config_file)\n",
    "  \n",
    "loaded_config"
   ]
  },
  {
   "cell_type": "code",
   "execution_count": 14,
   "metadata": {},
   "outputs": [
    {
     "data": {
      "text/plain": [
       "{'logging': {'level': 'INFO'},\n",
       " 'tws_server': {'host': '127.0.0.1', 'port': '7497'},\n",
       " 'client': {'id': '0'},\n",
       " 'inputs': {'movements_path': 'data/movements.csv',\n",
       "  'batch': 'movements::2024-02-13 13:53:31.160482'}}"
      ]
     },
     "execution_count": 14,
     "metadata": {},
     "output_type": "execute_result"
    }
   ],
   "source": [
    "loaded_config.update(default)\n",
    "loaded_config"
   ]
  },
  {
   "cell_type": "markdown",
   "metadata": {},
   "source": [
    "## Set up Execution Environment"
   ]
  },
  {
   "cell_type": "code",
   "execution_count": 11,
   "metadata": {},
   "outputs": [
    {
     "name": "stderr",
     "output_type": "stream",
     "text": [
      "/var/folders/pc/2vy016913bs5kzpn254yq_f40000gn/T/ipykernel_37933/2111806649.py:2: DeprecationWarning: \n",
      "Pyarrow will become a required dependency of pandas in the next major release of pandas (pandas 3.0),\n",
      "(to allow more performant data types, such as the Arrow string type, and better interoperability with other libraries)\n",
      "but was not found to be installed on your system.\n",
      "If this would cause problems for you,\n",
      "please provide us feedback at https://github.com/pandas-dev/pandas/issues/54466\n",
      "        \n",
      "  import pandas as pd\n"
     ]
    },
    {
     "data": {
      "text/plain": [
       "['DU8479097', 'kemitc545', '$Secreto4PaperTrading$']"
      ]
     },
     "execution_count": 11,
     "metadata": {},
     "output_type": "execute_result"
    }
   ],
   "source": [
    "import requests as rq\n",
    "import pandas as pd\n",
    "import sys\n",
    "import os\n",
    "import importlib\n",
    "import random\n",
    "\n",
    "\n",
    "project_dir = os.path.dirname(os.getcwd())\n",
    "\n",
    "sys.path.append(project_dir)\n"
   ]
  },
  {
   "cell_type": "code",
   "execution_count": 27,
   "metadata": {},
   "outputs": [],
   "source": [
    "import ibapi as ib\n",
    "from decimal import Decimal\n",
    "\n",
    "import sqlite3\n",
    "con = sqlite3.connect('../data/tickers.db')"
   ]
  },
  {
   "cell_type": "code",
   "execution_count": 10,
   "metadata": {},
   "outputs": [],
   "source": [
    "from ibapi.common import ListOfContractDescription\n",
    "from ibapi.common import TickerId"
   ]
  },
  {
   "cell_type": "code",
   "execution_count": 3,
   "metadata": {},
   "outputs": [],
   "source": [
    "import salduba.order_model as om\n",
    "importlib.reload(om)\n",
    "from salduba.order_model import Order\n",
    "\n"
   ]
  },
  {
   "cell_type": "code",
   "execution_count": 7,
   "metadata": {},
   "outputs": [
    {
     "data": {
      "text/plain": [
       "<enum 'WKW'>"
      ]
     },
     "execution_count": 7,
     "metadata": {},
     "output_type": "execute_result"
    }
   ],
   "source": [
    "from enum import StrEnum\n",
    "class WKW(StrEnum):\n",
    "  A = \"A\"\n",
    "  B = \"B\"\n",
    "  \n",
    "WKW(\"A\")\n",
    "type(WKW.A)"
   ]
  },
  {
   "cell_type": "markdown",
   "metadata": {},
   "source": [
    "## Read data from CSV files"
   ]
  },
  {
   "cell_type": "code",
   "execution_count": 12,
   "metadata": {},
   "outputs": [],
   "source": [
    "movements_path = '../data/movements.csv'\n",
    "initial_path = '../data/initial.csv'\n",
    "final_path = '../data/final.csv'"
   ]
  },
  {
   "cell_type": "markdown",
   "metadata": {},
   "source": [
    "### Read Movements File"
   ]
  },
  {
   "cell_type": "code",
   "execution_count": 25,
   "metadata": {},
   "outputs": [
    {
     "data": {
      "text/html": [
       "<div>\n",
       "<style scoped>\n",
       "    .dataframe tbody tr th:only-of-type {\n",
       "        vertical-align: middle;\n",
       "    }\n",
       "\n",
       "    .dataframe tbody tr th {\n",
       "        vertical-align: top;\n",
       "    }\n",
       "\n",
       "    .dataframe thead th {\n",
       "        text-align: right;\n",
       "    }\n",
       "</style>\n",
       "<table border=\"1\" class=\"dataframe\">\n",
       "  <thead>\n",
       "    <tr style=\"text-align: right;\">\n",
       "      <th></th>\n",
       "      <th>Id</th>\n",
       "      <th>Region</th>\n",
       "      <th>Nombre</th>\n",
       "      <th>Trade</th>\n",
       "      <th>Money</th>\n",
       "      <th>Currency</th>\n",
       "      <th>Min Mom 5Y10Y</th>\n",
       "      <th>Value Factor</th>\n",
       "      <th>Mom 1Y Factor</th>\n",
       "      <th>Mom+Val Adj</th>\n",
       "      <th>Correlation</th>\n",
       "      <th>GAP</th>\n",
       "      <th>100</th>\n",
       "      <th>EUR Initial Position</th>\n",
       "      <th>Initial</th>\n",
       "      <th>Final</th>\n",
       "    </tr>\n",
       "    <tr>\n",
       "      <th>Ticker</th>\n",
       "      <th></th>\n",
       "      <th></th>\n",
       "      <th></th>\n",
       "      <th></th>\n",
       "      <th></th>\n",
       "      <th></th>\n",
       "      <th></th>\n",
       "      <th></th>\n",
       "      <th></th>\n",
       "      <th></th>\n",
       "      <th></th>\n",
       "      <th></th>\n",
       "      <th></th>\n",
       "      <th></th>\n",
       "      <th></th>\n",
       "      <th></th>\n",
       "    </tr>\n",
       "  </thead>\n",
       "  <tbody>\n",
       "    <tr>\n",
       "      <th>2222 JP Equity</th>\n",
       "      <td>97</td>\n",
       "      <td>ASIA</td>\n",
       "      <td>Kotobuki Spirits Co Ltd</td>\n",
       "      <td>300</td>\n",
       "      <td>-600,450</td>\n",
       "      <td>JPY</td>\n",
       "      <td>15%</td>\n",
       "      <td>1.76</td>\n",
       "      <td>1.24</td>\n",
       "      <td>1.63</td>\n",
       "      <td>0.43</td>\n",
       "      <td>1.20</td>\n",
       "      <td>2,200</td>\n",
       "      <td>2,500</td>\n",
       "      <td>NaN</td>\n",
       "      <td>NaN</td>\n",
       "    </tr>\n",
       "    <tr>\n",
       "      <th>3088 JP Equity</th>\n",
       "      <td>100</td>\n",
       "      <td>ASIA</td>\n",
       "      <td>MatsukiyoCocokara &amp; Co</td>\n",
       "      <td>1900</td>\n",
       "      <td>-5,100,550</td>\n",
       "      <td>JPY</td>\n",
       "      <td>15%</td>\n",
       "      <td>1.39</td>\n",
       "      <td>1.12</td>\n",
       "      <td>1.33</td>\n",
       "      <td>0.24</td>\n",
       "      <td>1.09</td>\n",
       "      <td>-</td>\n",
       "      <td>1,900</td>\n",
       "      <td>NaN</td>\n",
       "      <td>NaN</td>\n",
       "    </tr>\n",
       "    <tr>\n",
       "      <th>3626 JP Equity</th>\n",
       "      <td>102</td>\n",
       "      <td>ASIA</td>\n",
       "      <td>TIS Inc</td>\n",
       "      <td>1500</td>\n",
       "      <td>-5,104,500</td>\n",
       "      <td>JPY</td>\n",
       "      <td>14%</td>\n",
       "      <td>1.28</td>\n",
       "      <td>0.87</td>\n",
       "      <td>1.18</td>\n",
       "      <td>0.18</td>\n",
       "      <td>1.00</td>\n",
       "      <td>-</td>\n",
       "      <td>1,500</td>\n",
       "      <td>NaN</td>\n",
       "      <td>NaN</td>\n",
       "    </tr>\n",
       "    <tr>\n",
       "      <th>3635 JP Equity</th>\n",
       "      <td>101</td>\n",
       "      <td>ASIA</td>\n",
       "      <td>Koei Tecmo Holdings Co Ltd</td>\n",
       "      <td>-200</td>\n",
       "      <td>353,100</td>\n",
       "      <td>JPY</td>\n",
       "      <td>17%</td>\n",
       "      <td>1.52</td>\n",
       "      <td>0.69</td>\n",
       "      <td>1.31</td>\n",
       "      <td>0.26</td>\n",
       "      <td>1.06</td>\n",
       "      <td>3,000</td>\n",
       "      <td>2,800</td>\n",
       "      <td>NaN</td>\n",
       "      <td>NaN</td>\n",
       "    </tr>\n",
       "    <tr>\n",
       "      <th>3774 JP Equity</th>\n",
       "      <td>106</td>\n",
       "      <td>ASIA</td>\n",
       "      <td>Internet Initiative Japan Inc</td>\n",
       "      <td>-100</td>\n",
       "      <td>301,500</td>\n",
       "      <td>JPY</td>\n",
       "      <td>15%</td>\n",
       "      <td>1.25</td>\n",
       "      <td>1.11</td>\n",
       "      <td>1.22</td>\n",
       "      <td>0.30</td>\n",
       "      <td>0.91</td>\n",
       "      <td>1,800</td>\n",
       "      <td>1,700</td>\n",
       "      <td>NaN</td>\n",
       "      <td>NaN</td>\n",
       "    </tr>\n",
       "    <tr>\n",
       "      <th>...</th>\n",
       "      <td>...</td>\n",
       "      <td>...</td>\n",
       "      <td>...</td>\n",
       "      <td>...</td>\n",
       "      <td>...</td>\n",
       "      <td>...</td>\n",
       "      <td>...</td>\n",
       "      <td>...</td>\n",
       "      <td>...</td>\n",
       "      <td>...</td>\n",
       "      <td>...</td>\n",
       "      <td>...</td>\n",
       "      <td>...</td>\n",
       "      <td>...</td>\n",
       "      <td>...</td>\n",
       "      <td>...</td>\n",
       "    </tr>\n",
       "    <tr>\n",
       "      <th>WIRE US Equity</th>\n",
       "      <td>63</td>\n",
       "      <td>AMERICA</td>\n",
       "      <td>Encore Wire Corp</td>\n",
       "      <td>16</td>\n",
       "      <td>-3,436</td>\n",
       "      <td>USD</td>\n",
       "      <td>17%</td>\n",
       "      <td>1.01</td>\n",
       "      <td>1.44</td>\n",
       "      <td>1.12</td>\n",
       "      <td>0.50</td>\n",
       "      <td>0.62</td>\n",
       "      <td>624</td>\n",
       "      <td>640</td>\n",
       "      <td>NaN</td>\n",
       "      <td>NaN</td>\n",
       "    </tr>\n",
       "    <tr>\n",
       "      <th>WLK US Equity</th>\n",
       "      <td>90</td>\n",
       "      <td>AMERICA</td>\n",
       "      <td>Westlake Corp</td>\n",
       "      <td>1026</td>\n",
       "      <td>-137,325</td>\n",
       "      <td>USD</td>\n",
       "      <td>12%</td>\n",
       "      <td>0.95</td>\n",
       "      <td>1.18</td>\n",
       "      <td>1.01</td>\n",
       "      <td>0.67</td>\n",
       "      <td>0.33</td>\n",
       "      <td>-</td>\n",
       "      <td>1,026</td>\n",
       "      <td>NaN</td>\n",
       "      <td>NaN</td>\n",
       "    </tr>\n",
       "    <tr>\n",
       "      <th>WSM US Equity</th>\n",
       "      <td>61</td>\n",
       "      <td>AMERICA</td>\n",
       "      <td>Williams-Sonoma Inc</td>\n",
       "      <td>45</td>\n",
       "      <td>-9,121</td>\n",
       "      <td>USD</td>\n",
       "      <td>19%</td>\n",
       "      <td>1.05</td>\n",
       "      <td>1.61</td>\n",
       "      <td>1.19</td>\n",
       "      <td>0.57</td>\n",
       "      <td>0.62</td>\n",
       "      <td>633</td>\n",
       "      <td>678</td>\n",
       "      <td>NaN</td>\n",
       "      <td>NaN</td>\n",
       "    </tr>\n",
       "    <tr>\n",
       "      <th>WSO US Equity</th>\n",
       "      <td>91</td>\n",
       "      <td>AMERICA</td>\n",
       "      <td>Watsco Inc</td>\n",
       "      <td>24</td>\n",
       "      <td>-9,684</td>\n",
       "      <td>USD</td>\n",
       "      <td>22%</td>\n",
       "      <td>0.85</td>\n",
       "      <td>1.51</td>\n",
       "      <td>1.02</td>\n",
       "      <td>0.70</td>\n",
       "      <td>0.32</td>\n",
       "      <td>316</td>\n",
       "      <td>340</td>\n",
       "      <td>NaN</td>\n",
       "      <td>NaN</td>\n",
       "    </tr>\n",
       "    <tr>\n",
       "      <th>YOU LN Equity</th>\n",
       "      <td>27</td>\n",
       "      <td>EURUK</td>\n",
       "      <td>YouGov PLC</td>\n",
       "      <td>3755</td>\n",
       "      <td>-42,432</td>\n",
       "      <td>GBp</td>\n",
       "      <td>25%</td>\n",
       "      <td>1.16</td>\n",
       "      <td>1.19</td>\n",
       "      <td>1.17</td>\n",
       "      <td>0.11</td>\n",
       "      <td>1.05</td>\n",
       "      <td>-</td>\n",
       "      <td>3,755</td>\n",
       "      <td>NaN</td>\n",
       "      <td>NaN</td>\n",
       "    </tr>\n",
       "  </tbody>\n",
       "</table>\n",
       "<p>113 rows × 16 columns</p>\n",
       "</div>"
      ],
      "text/plain": [
       "                 Id   Region                         Nombre  Trade  \\\n",
       "Ticker                                                               \n",
       "2222 JP Equity   97     ASIA        Kotobuki Spirits Co Ltd    300   \n",
       "3088 JP Equity  100     ASIA         MatsukiyoCocokara & Co   1900   \n",
       "3626 JP Equity  102     ASIA                        TIS Inc   1500   \n",
       "3635 JP Equity  101     ASIA     Koei Tecmo Holdings Co Ltd   -200   \n",
       "3774 JP Equity  106     ASIA  Internet Initiative Japan Inc   -100   \n",
       "...             ...      ...                            ...    ...   \n",
       "WIRE US Equity   63  AMERICA               Encore Wire Corp     16   \n",
       "WLK US Equity    90  AMERICA                  Westlake Corp   1026   \n",
       "WSM US Equity    61  AMERICA            Williams-Sonoma Inc     45   \n",
       "WSO US Equity    91  AMERICA                     Watsco Inc     24   \n",
       "YOU LN Equity    27    EURUK                     YouGov PLC   3755   \n",
       "\n",
       "                     Money Currency Min Mom 5Y10Y  Value Factor  \\\n",
       "Ticker                                                            \n",
       "2222 JP Equity    -600,450      JPY           15%          1.76   \n",
       "3088 JP Equity  -5,100,550      JPY           15%          1.39   \n",
       "3626 JP Equity  -5,104,500      JPY           14%          1.28   \n",
       "3635 JP Equity     353,100      JPY           17%          1.52   \n",
       "3774 JP Equity     301,500      JPY           15%          1.25   \n",
       "...                    ...      ...           ...           ...   \n",
       "WIRE US Equity      -3,436      USD           17%          1.01   \n",
       "WLK US Equity     -137,325      USD           12%          0.95   \n",
       "WSM US Equity       -9,121      USD           19%          1.05   \n",
       "WSO US Equity       -9,684      USD           22%          0.85   \n",
       "YOU LN Equity      -42,432      GBp           25%          1.16   \n",
       "\n",
       "                Mom 1Y Factor  Mom+Val Adj  Correlation   GAP       100  \\\n",
       "Ticker                                                                    \n",
       "2222 JP Equity           1.24         1.63         0.43  1.20    2,200    \n",
       "3088 JP Equity           1.12         1.33         0.24  1.09      -      \n",
       "3626 JP Equity           0.87         1.18         0.18  1.00      -      \n",
       "3635 JP Equity           0.69         1.31         0.26  1.06    3,000    \n",
       "3774 JP Equity           1.11         1.22         0.30  0.91    1,800    \n",
       "...                       ...          ...          ...   ...       ...   \n",
       "WIRE US Equity           1.44         1.12         0.50  0.62      624    \n",
       "WLK US Equity            1.18         1.01         0.67  0.33      -      \n",
       "WSM US Equity            1.61         1.19         0.57  0.62      633    \n",
       "WSO US Equity            1.51         1.02         0.70  0.32      316    \n",
       "YOU LN Equity            1.19         1.17         0.11  1.05      -      \n",
       "\n",
       "               EUR Initial Position  Initial  Final  \n",
       "Ticker                                               \n",
       "2222 JP Equity               2,500       NaN    NaN  \n",
       "3088 JP Equity               1,900       NaN    NaN  \n",
       "3626 JP Equity               1,500       NaN    NaN  \n",
       "3635 JP Equity               2,800       NaN    NaN  \n",
       "3774 JP Equity               1,700       NaN    NaN  \n",
       "...                             ...      ...    ...  \n",
       "WIRE US Equity                 640       NaN    NaN  \n",
       "WLK US Equity                1,026       NaN    NaN  \n",
       "WSM US Equity                  678       NaN    NaN  \n",
       "WSO US Equity                  340       NaN    NaN  \n",
       "YOU LN Equity                3,755       NaN    NaN  \n",
       "\n",
       "[113 rows x 16 columns]"
      ]
     },
     "execution_count": 25,
     "metadata": {},
     "output_type": "execute_result"
    }
   ],
   "source": [
    "movements = pd.read_csv(movements_path, index_col='Ticker').sort_values('Ticker').drop('NOTHING', axis=1)\n",
    "movements['Trade'] = movements['Trade'].map(lambda tr : int(tr.replace(',', '')))\n",
    "movements['Id'] = movements['Id'].map(lambda id : int(id))\n",
    "\n",
    "movements[movements['Nombre'] == 'flatexDEGIRO AG']\n",
    "movements"
   ]
  },
  {
   "cell_type": "code",
   "execution_count": 22,
   "metadata": {},
   "outputs": [
    {
     "data": {
      "text/plain": [
       "7"
      ]
     },
     "execution_count": 22,
     "metadata": {},
     "output_type": "execute_result"
    }
   ],
   "source": [
    "mvm = movements.reset_index()\n",
    "[(idx, row['Nombre']) for idx, row in mvm.iterrows()][0:1]\n",
    "\n",
    "len(mvm[mvm['Trade'] == 0])"
   ]
  },
  {
   "cell_type": "markdown",
   "metadata": {},
   "source": [
    "### Read Initial File"
   ]
  },
  {
   "cell_type": "code",
   "execution_count": 5,
   "metadata": {},
   "outputs": [
    {
     "data": {
      "text/plain": [
       "Index(['Nombre', 'Initial'], dtype='object')"
      ]
     },
     "execution_count": 5,
     "metadata": {},
     "output_type": "execute_result"
    }
   ],
   "source": [
    "initial = pd.read_csv(initial_path, index_col='Ticker')\n",
    "initial['Initial'] = initial['Initial'].map(lambda s : int(s.replace(',', '')))\n",
    "\n",
    "initial.columns"
   ]
  },
  {
   "cell_type": "markdown",
   "metadata": {},
   "source": [
    "### Read Final File"
   ]
  },
  {
   "cell_type": "code",
   "execution_count": 6,
   "metadata": {},
   "outputs": [
    {
     "data": {
      "text/plain": [
       "Index(['Nombre', 'Final'], dtype='object')"
      ]
     },
     "execution_count": 6,
     "metadata": {},
     "output_type": "execute_result"
    }
   ],
   "source": [
    "final = pd.read_csv(final_path, index_col='Ticker')\n",
    "final['Final'] = final['Final'].map(lambda s : int(s.replace(',', '')))\n",
    "\n",
    "final.columns"
   ]
  },
  {
   "cell_type": "markdown",
   "metadata": {},
   "source": [
    "### Check balances"
   ]
  },
  {
   "cell_type": "code",
   "execution_count": 8,
   "metadata": {},
   "outputs": [],
   "source": [
    "movements['Initial'] = initial['Initial']\n",
    "movements['Final'] = final['Final']\n",
    "\n",
    "movements['Initial'] = movements['Initial'].fillna(0)\n",
    "movements['Final'] = movements['Final'].fillna(0)"
   ]
  },
  {
   "cell_type": "code",
   "execution_count": 9,
   "metadata": {},
   "outputs": [
    {
     "data": {
      "text/plain": [
       "'# Unbalanced rows 0'"
      ]
     },
     "execution_count": 9,
     "metadata": {},
     "output_type": "execute_result"
    }
   ],
   "source": [
    "balances = movements['Initial'] + movements['Trade'] - movements['Final']\n",
    "\n",
    "f\"# Unbalanced rows {len(balances[balances != 0])}\"\n"
   ]
  },
  {
   "cell_type": "markdown",
   "metadata": {},
   "source": [
    "# Create Orders"
   ]
  },
  {
   "cell_type": "code",
   "execution_count": 10,
   "metadata": {},
   "outputs": [],
   "source": [
    "orders = [Order(account_id, r['Id'], r['Ticker'], r['Trade']) for r in movements.reset_index()[['Id', 'Ticker', 'Trade']].to_dict('records')]"
   ]
  },
  {
   "cell_type": "code",
   "execution_count": 12,
   "metadata": {},
   "outputs": [
    {
     "data": {
      "text/plain": [
       "[{'acctId': 'U13912507',\n",
       "  'conid': 12345,\n",
       "  'secType': '12345@NASDAQ',\n",
       "  'cOID': 'Test Batch-97',\n",
       "  'parentId': None,\n",
       "  'orderType': 'MKT',\n",
       "  'listingExchange': 'NASDAQ',\n",
       "  'isSingleGroup': False,\n",
       "  'outsideRTH': False,\n",
       "  'side': 'BUY',\n",
       "  'ticker': '2222 JP Equity',\n",
       "  'tif': 'DAY',\n",
       "  'referrer': 'CorvinoFundManagement2024-01-17 11:38:59.500228',\n",
       "  'quantity': 300,\n",
       "  'useAdaptive': False,\n",
       "  'isCcyConv': False,\n",
       "  'deactivated': True},\n",
       " {'acctId': 'U13912507',\n",
       "  'conid': 12345,\n",
       "  'secType': '12345@NASDAQ',\n",
       "  'cOID': 'Test Batch-100',\n",
       "  'parentId': None,\n",
       "  'orderType': 'MKT',\n",
       "  'listingExchange': 'NASDAQ',\n",
       "  'isSingleGroup': False,\n",
       "  'outsideRTH': False,\n",
       "  'side': 'BUY',\n",
       "  'ticker': '3088 JP Equity',\n",
       "  'tif': 'DAY',\n",
       "  'referrer': 'CorvinoFundManagement2024-01-17 11:38:59.500228',\n",
       "  'quantity': 1900,\n",
       "  'useAdaptive': False,\n",
       "  'isCcyConv': False,\n",
       "  'deactivated': True},\n",
       " {'acctId': 'U13912507',\n",
       "  'conid': 12345,\n",
       "  'secType': '12345@NASDAQ',\n",
       "  'cOID': 'Test Batch-102',\n",
       "  'parentId': None,\n",
       "  'orderType': 'MKT',\n",
       "  'listingExchange': 'NASDAQ',\n",
       "  'isSingleGroup': False,\n",
       "  'outsideRTH': False,\n",
       "  'side': 'BUY',\n",
       "  'ticker': '3626 JP Equity',\n",
       "  'tif': 'DAY',\n",
       "  'referrer': 'CorvinoFundManagement2024-01-17 11:38:59.500228',\n",
       "  'quantity': 1500,\n",
       "  'useAdaptive': False,\n",
       "  'isCcyConv': False,\n",
       "  'deactivated': True}]"
      ]
     },
     "execution_count": 12,
     "metadata": {},
     "output_type": "execute_result"
    }
   ],
   "source": [
    "[r.to_dict('Test Batch', 12345, 'NASDAQ') for r in orders[0:3]]"
   ]
  }
 ],
 "metadata": {
  "kernelspec": {
   "display_name": "pacomodel",
   "language": "python",
   "name": "python3"
  },
  "language_info": {
   "codemirror_mode": {
    "name": "ipython",
    "version": 3
   },
   "file_extension": ".py",
   "mimetype": "text/x-python",
   "name": "python",
   "nbconvert_exporter": "python",
   "pygments_lexer": "ipython3",
   "version": "3.11.6"
  }
 },
 "nbformat": 4,
 "nbformat_minor": 2
}
